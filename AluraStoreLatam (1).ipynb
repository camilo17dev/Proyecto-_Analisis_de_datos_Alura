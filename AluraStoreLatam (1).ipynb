{
  "nbformat": 4,
  "nbformat_minor": 0,
  "metadata": {
    "colab": {
      "provenance": []
    },
    "kernelspec": {
      "name": "python3",
      "display_name": "Python 3"
    },
    "language_info": {
      "name": "python"
    }
  },
  "cells": [
    {
      "cell_type": "markdown",
      "source": [
        "### Importación de datos\n",
        "\n"
      ],
      "metadata": {
        "id": "RhEdWd9YUR6H"
      }
    },
    {
      "cell_type": "code",
      "execution_count": 5,
      "metadata": {
        "colab": {
          "base_uri": "https://localhost:8080/",
          "height": 206
        },
        "id": "T3EvaeQ_INIL",
        "outputId": "d77926ff-679b-44ca-c2b3-8c47a5cd6d2d"
      },
      "outputs": [
        {
          "output_type": "execute_result",
          "data": {
            "text/plain": [
              "            Producto Categoría del Producto    Precio  Costo de envío  \\\n",
              "0  Asistente virtual           Electrónicos  164300.0          6900.0   \n",
              "1    Mesa de comedor                Muebles  192300.0          8400.0   \n",
              "2      Juego de mesa               Juguetes  209600.0         15900.0   \n",
              "3         Microondas      Electrodomésticos  757500.0         41000.0   \n",
              "4   Silla de oficina                Muebles  335200.0         20200.0   \n",
              "\n",
              "  Fecha de Compra         Vendedor Lugar de Compra  Calificación  \\\n",
              "0      16/01/2021      Pedro Gomez          Bogotá             4   \n",
              "1      18/05/2022  Beatriz Morales        Medellín             1   \n",
              "2      15/03/2021   Juan Fernandez       Cartagena             1   \n",
              "3      03/05/2022   Juan Fernandez            Cali             4   \n",
              "4      07/11/2020    Maria Alfonso        Medellín             5   \n",
              "\n",
              "       Método de pago  Cantidad de cuotas       lat       lon  \n",
              "0  Tarjeta de crédito                   8   4.60971 -74.08175  \n",
              "1  Tarjeta de crédito                   4   6.25184 -75.56359  \n",
              "2  Tarjeta de crédito                   1  10.39972 -75.51444  \n",
              "3               Nequi                   1   3.43722 -76.52250  \n",
              "4               Nequi                   1   6.25184 -75.56359  "
            ],
            "text/html": [
              "\n",
              "  <div id=\"df-4e65fbe4-e815-4682-9892-61c859baf4f5\" class=\"colab-df-container\">\n",
              "    <div>\n",
              "<style scoped>\n",
              "    .dataframe tbody tr th:only-of-type {\n",
              "        vertical-align: middle;\n",
              "    }\n",
              "\n",
              "    .dataframe tbody tr th {\n",
              "        vertical-align: top;\n",
              "    }\n",
              "\n",
              "    .dataframe thead th {\n",
              "        text-align: right;\n",
              "    }\n",
              "</style>\n",
              "<table border=\"1\" class=\"dataframe\">\n",
              "  <thead>\n",
              "    <tr style=\"text-align: right;\">\n",
              "      <th></th>\n",
              "      <th>Producto</th>\n",
              "      <th>Categoría del Producto</th>\n",
              "      <th>Precio</th>\n",
              "      <th>Costo de envío</th>\n",
              "      <th>Fecha de Compra</th>\n",
              "      <th>Vendedor</th>\n",
              "      <th>Lugar de Compra</th>\n",
              "      <th>Calificación</th>\n",
              "      <th>Método de pago</th>\n",
              "      <th>Cantidad de cuotas</th>\n",
              "      <th>lat</th>\n",
              "      <th>lon</th>\n",
              "    </tr>\n",
              "  </thead>\n",
              "  <tbody>\n",
              "    <tr>\n",
              "      <th>0</th>\n",
              "      <td>Asistente virtual</td>\n",
              "      <td>Electrónicos</td>\n",
              "      <td>164300.0</td>\n",
              "      <td>6900.0</td>\n",
              "      <td>16/01/2021</td>\n",
              "      <td>Pedro Gomez</td>\n",
              "      <td>Bogotá</td>\n",
              "      <td>4</td>\n",
              "      <td>Tarjeta de crédito</td>\n",
              "      <td>8</td>\n",
              "      <td>4.60971</td>\n",
              "      <td>-74.08175</td>\n",
              "    </tr>\n",
              "    <tr>\n",
              "      <th>1</th>\n",
              "      <td>Mesa de comedor</td>\n",
              "      <td>Muebles</td>\n",
              "      <td>192300.0</td>\n",
              "      <td>8400.0</td>\n",
              "      <td>18/05/2022</td>\n",
              "      <td>Beatriz Morales</td>\n",
              "      <td>Medellín</td>\n",
              "      <td>1</td>\n",
              "      <td>Tarjeta de crédito</td>\n",
              "      <td>4</td>\n",
              "      <td>6.25184</td>\n",
              "      <td>-75.56359</td>\n",
              "    </tr>\n",
              "    <tr>\n",
              "      <th>2</th>\n",
              "      <td>Juego de mesa</td>\n",
              "      <td>Juguetes</td>\n",
              "      <td>209600.0</td>\n",
              "      <td>15900.0</td>\n",
              "      <td>15/03/2021</td>\n",
              "      <td>Juan Fernandez</td>\n",
              "      <td>Cartagena</td>\n",
              "      <td>1</td>\n",
              "      <td>Tarjeta de crédito</td>\n",
              "      <td>1</td>\n",
              "      <td>10.39972</td>\n",
              "      <td>-75.51444</td>\n",
              "    </tr>\n",
              "    <tr>\n",
              "      <th>3</th>\n",
              "      <td>Microondas</td>\n",
              "      <td>Electrodomésticos</td>\n",
              "      <td>757500.0</td>\n",
              "      <td>41000.0</td>\n",
              "      <td>03/05/2022</td>\n",
              "      <td>Juan Fernandez</td>\n",
              "      <td>Cali</td>\n",
              "      <td>4</td>\n",
              "      <td>Nequi</td>\n",
              "      <td>1</td>\n",
              "      <td>3.43722</td>\n",
              "      <td>-76.52250</td>\n",
              "    </tr>\n",
              "    <tr>\n",
              "      <th>4</th>\n",
              "      <td>Silla de oficina</td>\n",
              "      <td>Muebles</td>\n",
              "      <td>335200.0</td>\n",
              "      <td>20200.0</td>\n",
              "      <td>07/11/2020</td>\n",
              "      <td>Maria Alfonso</td>\n",
              "      <td>Medellín</td>\n",
              "      <td>5</td>\n",
              "      <td>Nequi</td>\n",
              "      <td>1</td>\n",
              "      <td>6.25184</td>\n",
              "      <td>-75.56359</td>\n",
              "    </tr>\n",
              "  </tbody>\n",
              "</table>\n",
              "</div>\n",
              "    <div class=\"colab-df-buttons\">\n",
              "\n",
              "  <div class=\"colab-df-container\">\n",
              "    <button class=\"colab-df-convert\" onclick=\"convertToInteractive('df-4e65fbe4-e815-4682-9892-61c859baf4f5')\"\n",
              "            title=\"Convert this dataframe to an interactive table.\"\n",
              "            style=\"display:none;\">\n",
              "\n",
              "  <svg xmlns=\"http://www.w3.org/2000/svg\" height=\"24px\" viewBox=\"0 -960 960 960\">\n",
              "    <path d=\"M120-120v-720h720v720H120Zm60-500h600v-160H180v160Zm220 220h160v-160H400v160Zm0 220h160v-160H400v160ZM180-400h160v-160H180v160Zm440 0h160v-160H620v160ZM180-180h160v-160H180v160Zm440 0h160v-160H620v160Z\"/>\n",
              "  </svg>\n",
              "    </button>\n",
              "\n",
              "  <style>\n",
              "    .colab-df-container {\n",
              "      display:flex;\n",
              "      gap: 12px;\n",
              "    }\n",
              "\n",
              "    .colab-df-convert {\n",
              "      background-color: #E8F0FE;\n",
              "      border: none;\n",
              "      border-radius: 50%;\n",
              "      cursor: pointer;\n",
              "      display: none;\n",
              "      fill: #1967D2;\n",
              "      height: 32px;\n",
              "      padding: 0 0 0 0;\n",
              "      width: 32px;\n",
              "    }\n",
              "\n",
              "    .colab-df-convert:hover {\n",
              "      background-color: #E2EBFA;\n",
              "      box-shadow: 0px 1px 2px rgba(60, 64, 67, 0.3), 0px 1px 3px 1px rgba(60, 64, 67, 0.15);\n",
              "      fill: #174EA6;\n",
              "    }\n",
              "\n",
              "    .colab-df-buttons div {\n",
              "      margin-bottom: 4px;\n",
              "    }\n",
              "\n",
              "    [theme=dark] .colab-df-convert {\n",
              "      background-color: #3B4455;\n",
              "      fill: #D2E3FC;\n",
              "    }\n",
              "\n",
              "    [theme=dark] .colab-df-convert:hover {\n",
              "      background-color: #434B5C;\n",
              "      box-shadow: 0px 1px 3px 1px rgba(0, 0, 0, 0.15);\n",
              "      filter: drop-shadow(0px 1px 2px rgba(0, 0, 0, 0.3));\n",
              "      fill: #FFFFFF;\n",
              "    }\n",
              "  </style>\n",
              "\n",
              "    <script>\n",
              "      const buttonEl =\n",
              "        document.querySelector('#df-4e65fbe4-e815-4682-9892-61c859baf4f5 button.colab-df-convert');\n",
              "      buttonEl.style.display =\n",
              "        google.colab.kernel.accessAllowed ? 'block' : 'none';\n",
              "\n",
              "      async function convertToInteractive(key) {\n",
              "        const element = document.querySelector('#df-4e65fbe4-e815-4682-9892-61c859baf4f5');\n",
              "        const dataTable =\n",
              "          await google.colab.kernel.invokeFunction('convertToInteractive',\n",
              "                                                    [key], {});\n",
              "        if (!dataTable) return;\n",
              "\n",
              "        const docLinkHtml = 'Like what you see? Visit the ' +\n",
              "          '<a target=\"_blank\" href=https://colab.research.google.com/notebooks/data_table.ipynb>data table notebook</a>'\n",
              "          + ' to learn more about interactive tables.';\n",
              "        element.innerHTML = '';\n",
              "        dataTable['output_type'] = 'display_data';\n",
              "        await google.colab.output.renderOutput(dataTable, element);\n",
              "        const docLink = document.createElement('div');\n",
              "        docLink.innerHTML = docLinkHtml;\n",
              "        element.appendChild(docLink);\n",
              "      }\n",
              "    </script>\n",
              "  </div>\n",
              "\n",
              "\n",
              "    <div id=\"df-9589c8d1-4d95-4add-b844-4cb80ab20185\">\n",
              "      <button class=\"colab-df-quickchart\" onclick=\"quickchart('df-9589c8d1-4d95-4add-b844-4cb80ab20185')\"\n",
              "                title=\"Suggest charts\"\n",
              "                style=\"display:none;\">\n",
              "\n",
              "<svg xmlns=\"http://www.w3.org/2000/svg\" height=\"24px\"viewBox=\"0 0 24 24\"\n",
              "     width=\"24px\">\n",
              "    <g>\n",
              "        <path d=\"M19 3H5c-1.1 0-2 .9-2 2v14c0 1.1.9 2 2 2h14c1.1 0 2-.9 2-2V5c0-1.1-.9-2-2-2zM9 17H7v-7h2v7zm4 0h-2V7h2v10zm4 0h-2v-4h2v4z\"/>\n",
              "    </g>\n",
              "</svg>\n",
              "      </button>\n",
              "\n",
              "<style>\n",
              "  .colab-df-quickchart {\n",
              "      --bg-color: #E8F0FE;\n",
              "      --fill-color: #1967D2;\n",
              "      --hover-bg-color: #E2EBFA;\n",
              "      --hover-fill-color: #174EA6;\n",
              "      --disabled-fill-color: #AAA;\n",
              "      --disabled-bg-color: #DDD;\n",
              "  }\n",
              "\n",
              "  [theme=dark] .colab-df-quickchart {\n",
              "      --bg-color: #3B4455;\n",
              "      --fill-color: #D2E3FC;\n",
              "      --hover-bg-color: #434B5C;\n",
              "      --hover-fill-color: #FFFFFF;\n",
              "      --disabled-bg-color: #3B4455;\n",
              "      --disabled-fill-color: #666;\n",
              "  }\n",
              "\n",
              "  .colab-df-quickchart {\n",
              "    background-color: var(--bg-color);\n",
              "    border: none;\n",
              "    border-radius: 50%;\n",
              "    cursor: pointer;\n",
              "    display: none;\n",
              "    fill: var(--fill-color);\n",
              "    height: 32px;\n",
              "    padding: 0;\n",
              "    width: 32px;\n",
              "  }\n",
              "\n",
              "  .colab-df-quickchart:hover {\n",
              "    background-color: var(--hover-bg-color);\n",
              "    box-shadow: 0 1px 2px rgba(60, 64, 67, 0.3), 0 1px 3px 1px rgba(60, 64, 67, 0.15);\n",
              "    fill: var(--button-hover-fill-color);\n",
              "  }\n",
              "\n",
              "  .colab-df-quickchart-complete:disabled,\n",
              "  .colab-df-quickchart-complete:disabled:hover {\n",
              "    background-color: var(--disabled-bg-color);\n",
              "    fill: var(--disabled-fill-color);\n",
              "    box-shadow: none;\n",
              "  }\n",
              "\n",
              "  .colab-df-spinner {\n",
              "    border: 2px solid var(--fill-color);\n",
              "    border-color: transparent;\n",
              "    border-bottom-color: var(--fill-color);\n",
              "    animation:\n",
              "      spin 1s steps(1) infinite;\n",
              "  }\n",
              "\n",
              "  @keyframes spin {\n",
              "    0% {\n",
              "      border-color: transparent;\n",
              "      border-bottom-color: var(--fill-color);\n",
              "      border-left-color: var(--fill-color);\n",
              "    }\n",
              "    20% {\n",
              "      border-color: transparent;\n",
              "      border-left-color: var(--fill-color);\n",
              "      border-top-color: var(--fill-color);\n",
              "    }\n",
              "    30% {\n",
              "      border-color: transparent;\n",
              "      border-left-color: var(--fill-color);\n",
              "      border-top-color: var(--fill-color);\n",
              "      border-right-color: var(--fill-color);\n",
              "    }\n",
              "    40% {\n",
              "      border-color: transparent;\n",
              "      border-right-color: var(--fill-color);\n",
              "      border-top-color: var(--fill-color);\n",
              "    }\n",
              "    60% {\n",
              "      border-color: transparent;\n",
              "      border-right-color: var(--fill-color);\n",
              "    }\n",
              "    80% {\n",
              "      border-color: transparent;\n",
              "      border-right-color: var(--fill-color);\n",
              "      border-bottom-color: var(--fill-color);\n",
              "    }\n",
              "    90% {\n",
              "      border-color: transparent;\n",
              "      border-bottom-color: var(--fill-color);\n",
              "    }\n",
              "  }\n",
              "</style>\n",
              "\n",
              "      <script>\n",
              "        async function quickchart(key) {\n",
              "          const quickchartButtonEl =\n",
              "            document.querySelector('#' + key + ' button');\n",
              "          quickchartButtonEl.disabled = true;  // To prevent multiple clicks.\n",
              "          quickchartButtonEl.classList.add('colab-df-spinner');\n",
              "          try {\n",
              "            const charts = await google.colab.kernel.invokeFunction(\n",
              "                'suggestCharts', [key], {});\n",
              "          } catch (error) {\n",
              "            console.error('Error during call to suggestCharts:', error);\n",
              "          }\n",
              "          quickchartButtonEl.classList.remove('colab-df-spinner');\n",
              "          quickchartButtonEl.classList.add('colab-df-quickchart-complete');\n",
              "        }\n",
              "        (() => {\n",
              "          let quickchartButtonEl =\n",
              "            document.querySelector('#df-9589c8d1-4d95-4add-b844-4cb80ab20185 button');\n",
              "          quickchartButtonEl.style.display =\n",
              "            google.colab.kernel.accessAllowed ? 'block' : 'none';\n",
              "        })();\n",
              "      </script>\n",
              "    </div>\n",
              "\n",
              "    </div>\n",
              "  </div>\n"
            ],
            "application/vnd.google.colaboratory.intrinsic+json": {
              "type": "dataframe",
              "variable_name": "tienda1",
              "summary": "{\n  \"name\": \"tienda1\",\n  \"rows\": 2359,\n  \"fields\": [\n    {\n      \"column\": \"Producto\",\n      \"properties\": {\n        \"dtype\": \"category\",\n        \"num_unique_values\": 51,\n        \"samples\": [\n          \"Guitarra ac\\u00fastica\",\n          \"Bal\\u00f3n de baloncesto\",\n          \"Smartwatch\"\n        ],\n        \"semantic_type\": \"\",\n        \"description\": \"\"\n      }\n    },\n    {\n      \"column\": \"Categor\\u00eda del Producto\",\n      \"properties\": {\n        \"dtype\": \"category\",\n        \"num_unique_values\": 8,\n        \"samples\": [\n          \"Muebles\",\n          \"Deportes y diversi\\u00f3n\",\n          \"Electr\\u00f3nicos\"\n        ],\n        \"semantic_type\": \"\",\n        \"description\": \"\"\n      }\n    },\n    {\n      \"column\": \"Precio\",\n      \"properties\": {\n        \"dtype\": \"number\",\n        \"std\": 614686.7653873172,\n        \"min\": 7600.0,\n        \"max\": 2977000.0,\n        \"num_unique_values\": 1937,\n        \"samples\": [\n          2499400.0,\n          14800.0,\n          80500.0\n        ],\n        \"semantic_type\": \"\",\n        \"description\": \"\"\n      }\n    },\n    {\n      \"column\": \"Costo de env\\u00edo\",\n      \"properties\": {\n        \"dtype\": \"number\",\n        \"std\": 32860.0017825605,\n        \"min\": 0.0,\n        \"max\": 160800.0,\n        \"num_unique_values\": 753,\n        \"samples\": [\n          117800.0,\n          54700.0,\n          45600.0\n        ],\n        \"semantic_type\": \"\",\n        \"description\": \"\"\n      }\n    },\n    {\n      \"column\": \"Fecha de Compra\",\n      \"properties\": {\n        \"dtype\": \"object\",\n        \"num_unique_values\": 1018,\n        \"samples\": [\n          \"15/09/2022\",\n          \"03/06/2020\",\n          \"06/11/2021\"\n        ],\n        \"semantic_type\": \"\",\n        \"description\": \"\"\n      }\n    },\n    {\n      \"column\": \"Vendedor\",\n      \"properties\": {\n        \"dtype\": \"category\",\n        \"num_unique_values\": 14,\n        \"samples\": [\n          \"Juliana Costa\",\n          \"Mariana Herrera\",\n          \"Pedro Gomez\"\n        ],\n        \"semantic_type\": \"\",\n        \"description\": \"\"\n      }\n    },\n    {\n      \"column\": \"Lugar de Compra\",\n      \"properties\": {\n        \"dtype\": \"category\",\n        \"num_unique_values\": 19,\n        \"samples\": [\n          \"Bogot\\u00e1\",\n          \"Pereira\",\n          \"Neiva\"\n        ],\n        \"semantic_type\": \"\",\n        \"description\": \"\"\n      }\n    },\n    {\n      \"column\": \"Calificaci\\u00f3n\",\n      \"properties\": {\n        \"dtype\": \"number\",\n        \"std\": 1,\n        \"min\": 1,\n        \"max\": 5,\n        \"num_unique_values\": 5,\n        \"samples\": [\n          1,\n          2,\n          5\n        ],\n        \"semantic_type\": \"\",\n        \"description\": \"\"\n      }\n    },\n    {\n      \"column\": \"M\\u00e9todo de pago\",\n      \"properties\": {\n        \"dtype\": \"category\",\n        \"num_unique_values\": 4,\n        \"samples\": [\n          \"Nequi\",\n          \"Tarjeta de d\\u00e9bito\",\n          \"Tarjeta de cr\\u00e9dito\"\n        ],\n        \"semantic_type\": \"\",\n        \"description\": \"\"\n      }\n    },\n    {\n      \"column\": \"Cantidad de cuotas\",\n      \"properties\": {\n        \"dtype\": \"number\",\n        \"std\": 2,\n        \"min\": 1,\n        \"max\": 24,\n        \"num_unique_values\": 15,\n        \"samples\": [\n          7,\n          14,\n          8\n        ],\n        \"semantic_type\": \"\",\n        \"description\": \"\"\n      }\n    },\n    {\n      \"column\": \"lat\",\n      \"properties\": {\n        \"dtype\": \"number\",\n        \"std\": 2.2874452492678627,\n        \"min\": -4.21528,\n        \"max\": 11.54444,\n        \"num_unique_values\": 19,\n        \"samples\": [\n          4.60971,\n          4.81333,\n          2.9273\n        ],\n        \"semantic_type\": \"\",\n        \"description\": \"\"\n      }\n    },\n    {\n      \"column\": \"lon\",\n      \"properties\": {\n        \"dtype\": \"number\",\n        \"std\": 1.2178272727088486,\n        \"min\": -77.28111,\n        \"max\": -67.9239,\n        \"num_unique_values\": 19,\n        \"samples\": [\n          -74.08175,\n          -75.69611,\n          -75.28189\n        ],\n        \"semantic_type\": \"\",\n        \"description\": \"\"\n      }\n    }\n  ]\n}"
            }
          },
          "metadata": {},
          "execution_count": 5
        }
      ],
      "source": [
        "import pandas as pd\n",
        "\n",
        "url = \"https://raw.githubusercontent.com/alura-es-cursos/challenge1-data-science-latam/refs/heads/main/base-de-datos-challenge1-latam/tienda_1%20.csv\"\n",
        "url2 = \"https://raw.githubusercontent.com/alura-es-cursos/challenge1-data-science-latam/refs/heads/main/base-de-datos-challenge1-latam/tienda_2.csv\"\n",
        "url3 = \"https://raw.githubusercontent.com/alura-es-cursos/challenge1-data-science-latam/refs/heads/main/base-de-datos-challenge1-latam/tienda_3.csv\"\n",
        "url4 = \"https://raw.githubusercontent.com/alura-es-cursos/challenge1-data-science-latam/refs/heads/main/base-de-datos-challenge1-latam/tienda_4.csv\"\n",
        "\n",
        "tienda1 = pd.read_csv(url)\n",
        "tienda2 = pd.read_csv(url2)\n",
        "tienda3 = pd.read_csv(url3)\n",
        "tienda4 = pd.read_csv(url4)\n",
        "\n",
        "tienda1.head()"
      ]
    },
    {
      "cell_type": "markdown",
      "source": [
        "#1. Análisis de facturación\n",
        "\n"
      ],
      "metadata": {
        "id": "X62IW3KFUIYm"
      }
    },
    {
      "cell_type": "code",
      "source": [
        "# Calcular facturación por tienda\n",
        "facturacion_tienda1 = tienda1[\"Precio\"].sum()\n",
        "facturacion_tienda2 = tienda2[\"Precio\"].sum()\n",
        "facturacion_tienda3 = tienda3[\"Precio\"].sum()\n",
        "facturacion_tienda4 = tienda4[\"Precio\"].sum()"
      ],
      "metadata": {
        "id": "xykobSftV64I"
      },
      "execution_count": 8,
      "outputs": []
    },
    {
      "cell_type": "code",
      "source": [
        "print(\"Facturación total por tienda:\")\n",
        "print(f\"Tienda 1: ${facturacion_tienda1:,.0f}\")\n",
        "print(f\"Tienda 2: ${facturacion_tienda2:,.0f}\")\n",
        "print(f\"Tienda 3: ${facturacion_tienda3:,.0f}\")\n",
        "print(f\"Tienda 4: ${facturacion_tienda4:,.0f}\")"
      ],
      "metadata": {
        "id": "KDyr8E71V3m-",
        "colab": {
          "base_uri": "https://localhost:8080/"
        },
        "outputId": "41c28045-3ae4-432b-82a3-fb954dad9beb"
      },
      "execution_count": 9,
      "outputs": [
        {
          "output_type": "stream",
          "name": "stdout",
          "text": [
            "Facturación total por tienda:\n",
            "Tienda 1: $1,150,880,400\n",
            "Tienda 2: $1,116,343,500\n",
            "Tienda 3: $1,098,019,600\n",
            "Tienda 4: $1,038,375,700\n"
          ]
        }
      ]
    },
    {
      "cell_type": "code",
      "source": [
        "#Ingreso total descontando el precio del envio\n",
        "ingreso_real_tienda1 = (tienda1[\"Precio\"] - tienda1[\"Costo de envío\"]).sum()\n",
        "ingreso_real_tienda2 = (tienda2[\"Precio\"] - tienda2[\"Costo de envío\"]).sum()\n",
        "ingreso_real_tienda3 = (tienda3[\"Precio\"] - tienda3[\"Costo de envío\"]).sum()\n",
        "ingreso_real_tienda4 = (tienda4[\"Precio\"] - tienda4[\"Costo de envío\"]).sum()"
      ],
      "metadata": {
        "id": "1MzeOZUrOLS0"
      },
      "execution_count": 13,
      "outputs": []
    },
    {
      "cell_type": "code",
      "source": [
        "print(\"Ingreso real (facturación menos costo de envío):\")\n",
        "print(f\"Tienda 1: {ingreso_real_tienda1:,.0f} \")\n",
        "print(f\"Tienda 2: {ingreso_real_tienda2:,.0f} \")\n",
        "print(f\"Tienda 3: {ingreso_real_tienda3:,.0f} \")\n",
        "print(f\"Tienda 4: {ingreso_real_tienda4:,.0f} \")"
      ],
      "metadata": {
        "colab": {
          "base_uri": "https://localhost:8080/"
        },
        "id": "83Z5knSPOSbC",
        "outputId": "90b65a0f-f9ad-4a99-9478-1dfedcf15bee"
      },
      "execution_count": 15,
      "outputs": [
        {
          "output_type": "stream",
          "name": "stdout",
          "text": [
            "Ingreso real (facturación menos costo de envío):\n",
            "Tienda 1: 1,089,502,500 \n",
            "Tienda 2: 1,056,858,400 \n",
            "Tienda 3: 1,039,503,000 \n",
            "Tienda 4: 983,058,300 \n"
          ]
        }
      ]
    },
    {
      "cell_type": "code",
      "source": [
        "tienda1[\"Mes\"] = pd.to_datetime(tienda1[\"Fecha de Compra\"]).dt.to_period(\"M\")\n",
        "ventas_por_mes = tienda1.groupby(\"Mes\")[\"Producto\"].count()\n",
        "ventas_por_mes.plot(kind=\"line\", title=\"Ventas mensuales - Tienda 1\")"
      ],
      "metadata": {
        "colab": {
          "base_uri": "https://localhost:8080/",
          "height": 540
        },
        "id": "HXC5ZjzaeSEK",
        "outputId": "dffcad44-4846-40e5-b53b-a020d13a4ead"
      },
      "execution_count": 46,
      "outputs": [
        {
          "output_type": "stream",
          "name": "stderr",
          "text": [
            "<ipython-input-46-396cbd4cda32>:1: UserWarning: Parsing dates in %d/%m/%Y format when dayfirst=False (the default) was specified. Pass `dayfirst=True` or specify a format to silence this warning.\n",
            "  tienda1[\"Mes\"] = pd.to_datetime(tienda1[\"Fecha de Compra\"]).dt.to_period(\"M\")\n"
          ]
        },
        {
          "output_type": "execute_result",
          "data": {
            "text/plain": [
              "<Axes: title={'center': 'Ventas mensuales - Tienda 1'}, xlabel='Mes'>"
            ]
          },
          "metadata": {},
          "execution_count": 46
        },
        {
          "output_type": "display_data",
          "data": {
            "text/plain": [
              "<Figure size 640x480 with 1 Axes>"
            ],
            "image/png": "[encoded data removed]"
          },
          "metadata": {}
        }
      ]
    },
    {
      "cell_type": "markdown",
      "source": [
        "# 2. Ventas por categoría"
      ],
      "metadata": {
        "id": "2V_vcAPzWZmR"
      }
    },
    {
      "cell_type": "code",
      "source": [
        "print(\"Tienda 1 - Productos vendidos por categoría:\")\n",
        "print(tienda1[\"Categoría del Producto\"].value_counts())\n",
        "print()\n",
        "\n",
        "print(\"Tienda 2 - Productos vendidos por categoría:\")\n",
        "print(tienda2[\"Categoría del Producto\"].value_counts())\n",
        "print()\n",
        "\n",
        "print(\"Tienda 3 - Productos vendidos por categoría:\")\n",
        "print(tienda3[\"Categoría del Producto\"].value_counts())\n",
        "print()\n",
        "\n",
        "print(\"Tienda 4 - Productos vendidos por categoría:\")\n",
        "print(tienda4[\"Categoría del Producto\"].value_counts())\n",
        "print()"
      ],
      "metadata": {
        "id": "A34YupIuYhfF",
        "colab": {
          "base_uri": "https://localhost:8080/"
        },
        "outputId": "0a0124ff-a983-409c-f616-307ac4fcaf8b"
      },
      "execution_count": 16,
      "outputs": [
        {
          "output_type": "stream",
          "name": "stdout",
          "text": [
            "Tienda 1 - Productos vendidos por categoría:\n",
            "Categoría del Producto\n",
            "Muebles                    465\n",
            "Electrónicos               448\n",
            "Juguetes                   324\n",
            "Electrodomésticos          312\n",
            "Deportes y diversión       284\n",
            "Instrumentos musicales     182\n",
            "Libros                     173\n",
            "Artículos para el hogar    171\n",
            "Name: count, dtype: int64\n",
            "\n",
            "Tienda 2 - Productos vendidos por categoría:\n",
            "Categoría del Producto\n",
            "Muebles                    442\n",
            "Electrónicos               422\n",
            "Juguetes                   313\n",
            "Electrodomésticos          305\n",
            "Deportes y diversión       275\n",
            "Instrumentos musicales     224\n",
            "Libros                     197\n",
            "Artículos para el hogar    181\n",
            "Name: count, dtype: int64\n",
            "\n",
            "Tienda 3 - Productos vendidos por categoría:\n",
            "Categoría del Producto\n",
            "Muebles                    499\n",
            "Electrónicos               451\n",
            "Juguetes                   315\n",
            "Electrodomésticos          278\n",
            "Deportes y diversión       277\n",
            "Libros                     185\n",
            "Instrumentos musicales     177\n",
            "Artículos para el hogar    177\n",
            "Name: count, dtype: int64\n",
            "\n",
            "Tienda 4 - Productos vendidos por categoría:\n",
            "Categoría del Producto\n",
            "Muebles                    480\n",
            "Electrónicos               451\n",
            "Juguetes                   338\n",
            "Deportes y diversión       277\n",
            "Electrodomésticos          254\n",
            "Artículos para el hogar    201\n",
            "Libros                     187\n",
            "Instrumentos musicales     170\n",
            "Name: count, dtype: int64\n",
            "\n"
          ]
        }
      ]
    },
    {
      "cell_type": "code",
      "source": [
        "import pandas as pd\n",
        "import matplotlib.pyplot as plt\n",
        "\n",
        "# Calcular cantidad de productos vendidos por categoría en cada tienda\n",
        "cat1 = tienda1[\"Categoría del Producto\"].value_counts()\n",
        "cat2 = tienda2[\"Categoría del Producto\"].value_counts()\n",
        "cat3 = tienda3[\"Categoría del Producto\"].value_counts()\n",
        "cat4 = tienda4[\"Categoría del Producto\"].value_counts()\n",
        "\n",
        "# Unir todas las tiendas en un DataFrame\n",
        "df_categorias = pd.DataFrame({\n",
        "    'Tienda 1': cat1,\n",
        "    'Tienda 2': cat2,\n",
        "    'Tienda 3': cat3,\n",
        "    'Tienda 4': cat4\n",
        "}).fillna(0)\n",
        "\n",
        "# Crear gráfico de barras\n",
        "df_categorias.plot(kind='bar', figsize=(12, 6))\n",
        "plt.title('Cantidad de productos vendidos por categoría en cada tienda')\n",
        "plt.xlabel('Categoría del Producto')\n",
        "plt.ylabel('Cantidad Vendida')\n",
        "plt.xticks(rotation=0)\n",
        "plt.legend(title='Tiendas')\n",
        "plt.grid(axis='y', linestyle='--', alpha=0.7)\n",
        "plt.tight_layout()\n",
        "plt.show()"
      ],
      "metadata": {
        "id": "yZR6cOjXYSk1",
        "colab": {
          "base_uri": "https://localhost:8080/",
          "height": 607
        },
        "outputId": "06783238-ef80-4c26-8460-32b0d0299588"
      },
      "execution_count": 18,
      "outputs": [
        {
          "output_type": "display_data",
          "data": {
            "text/plain": [
              "<Figure size 1200x600 with 1 Axes>"
            ],
            "image/png": "[encoded data removed]"
          },
          "metadata": {}
        }
      ]
    },
    {
      "cell_type": "markdown",
      "source": [
        "# 3. Calificación promedio de la tienda\n"
      ],
      "metadata": {
        "id": "Rq6tU_xSY3jk"
      }
    },
    {
      "cell_type": "code",
      "source": [
        "# Calcular calificación promedio por tienda\n",
        "promedio_tienda1 = tienda1[\"Calificación\"].mean()\n",
        "promedio_tienda2 = tienda2[\"Calificación\"].mean()\n",
        "promedio_tienda3 = tienda3[\"Calificación\"].mean()\n",
        "promedio_tienda4 = tienda4[\"Calificación\"].mean()"
      ],
      "metadata": {
        "id": "bh3jjjJwY5MU"
      },
      "execution_count": 21,
      "outputs": []
    },
    {
      "cell_type": "code",
      "source": [
        "print(\"Calificación promedio por tienda:\")\n",
        "print(f\"Tienda 1: {promedio_tienda1:.2f}\")\n",
        "print(f\"Tienda 2: {promedio_tienda2:.2f}\")\n",
        "print(f\"Tienda 3: {promedio_tienda3:.2f}\")\n",
        "print(f\"Tienda 4: {promedio_tienda4:.2f}\")"
      ],
      "metadata": {
        "id": "I0KkjPoTY88F",
        "colab": {
          "base_uri": "https://localhost:8080/"
        },
        "outputId": "9ce4c9ed-4734-460d-afe4-1e2b817bb047"
      },
      "execution_count": 22,
      "outputs": [
        {
          "output_type": "stream",
          "name": "stdout",
          "text": [
            "Calificación promedio por tienda:\n",
            "Tienda 1: 3.98\n",
            "Tienda 2: 4.04\n",
            "Tienda 3: 4.05\n",
            "Tienda 4: 4.00\n"
          ]
        }
      ]
    },
    {
      "cell_type": "markdown",
      "source": [
        "# 4. Productos más y menos vendidos"
      ],
      "metadata": {
        "id": "DmNp1KPBZCm-"
      }
    },
    {
      "cell_type": "code",
      "source": [
        "# Tienda 1\n",
        "ventas_t1 = tienda1[\"Producto\"].value_counts()\n",
        "mas_vendido_t1 = ventas_t1.idxmax()\n",
        "menos_vendido_t1 = ventas_t1.idxmin()\n",
        "\n",
        "# Tienda 2\n",
        "ventas_t2 = tienda2[\"Producto\"].value_counts()\n",
        "mas_vendido_t2 = ventas_t2.idxmax()\n",
        "menos_vendido_t2 = ventas_t2.idxmin()\n",
        "\n",
        "# Tienda 3\n",
        "ventas_t3 = tienda3[\"Producto\"].value_counts()\n",
        "mas_vendido_t3 = ventas_t3.idxmax()\n",
        "menos_vendido_t3 = ventas_t3.idxmin()\n",
        "\n",
        "# Tienda 4\n",
        "ventas_t4 = tienda4[\"Producto\"].value_counts()\n",
        "mas_vendido_t4 = ventas_t4.idxmax()\n",
        "menos_vendido_t4 = ventas_t4.idxmin()"
      ],
      "metadata": {
        "id": "qoyjqijQZHfF"
      },
      "execution_count": 25,
      "outputs": []
    },
    {
      "cell_type": "code",
      "source": [
        "print(f\"Tienda 1: Más vendido = {mas_vendido_t1}, Menos vendido = {menos_vendido_t1}\")\n",
        "print(f\"Tienda 2: Más vendido = {mas_vendido_t2}, Menos vendido = {menos_vendido_t2}\")\n",
        "print(f\"Tienda 3: Más vendido = {mas_vendido_t3}, Menos vendido = {menos_vendido_t3}\")\n",
        "print(f\"Tienda 4: Más vendido = {mas_vendido_t4}, Menos vendido = {menos_vendido_t4}\")"
      ],
      "metadata": {
        "id": "0Sw3sd4IZIGW",
        "colab": {
          "base_uri": "https://localhost:8080/"
        },
        "outputId": "4a03d49e-ea3d-4f68-b125-af90f4d81457"
      },
      "execution_count": 26,
      "outputs": [
        {
          "output_type": "stream",
          "name": "stdout",
          "text": [
            "Tienda 1: Más vendido = Microondas, Menos vendido = Auriculares con micrófono\n",
            "Tienda 2: Más vendido = Iniciando en programación, Menos vendido = Juego de mesa\n",
            "Tienda 3: Más vendido = Kit de bancas, Menos vendido = Bloques de construcción\n",
            "Tienda 4: Más vendido = Cama box, Menos vendido = Guitarra eléctrica\n"
          ]
        }
      ]
    },
    {
      "cell_type": "markdown",
      "source": [
        "# 5. Envío promedio por tienda"
      ],
      "metadata": {
        "id": "Fl0cGi3bZKqU"
      }
    },
    {
      "cell_type": "code",
      "source": [
        "# Calcular el costo de envío promedio por tienda\n",
        "envio_prom_t1 = tienda1[\"Costo de envío\"].mean()\n",
        "envio_prom_t2 = tienda2[\"Costo de envío\"].mean()\n",
        "envio_prom_t3 = tienda3[\"Costo de envío\"].mean()\n",
        "envio_prom_t4 = tienda4[\"Costo de envío\"].mean()"
      ],
      "metadata": {
        "id": "S2JeaCykZNy9"
      },
      "execution_count": 31,
      "outputs": []
    },
    {
      "cell_type": "code",
      "source": [
        "print(\"Costo de envío promedio por tienda:\")\n",
        "print(f\"Tienda 1: ${envio_prom_t1:,.0f}\")\n",
        "print(f\"Tienda 2: ${envio_prom_t2:,.0f}\")"
      ],
      "metadata": {
        "id": "0tSdCie9ZQlt",
        "colab": {
          "base_uri": "https://localhost:8080/"
        },
        "outputId": "fe10daa2-2e3d-41f2-c187-496288cbdbe3"
      },
      "execution_count": 36,
      "outputs": [
        {
          "output_type": "stream",
          "name": "stdout",
          "text": [
            "Costo de envío promedio por tienda:\n",
            "Tienda 1: $26,019\n",
            "Tienda 2: $25,216\n",
            "Tienda 3: $24,806\n",
            "Tienda 4: $23,459\n"
          ]
        }
      ]
    },
    {
      "cell_type": "markdown",
      "source": [
        "##INFORME FINAL"
      ],
      "metadata": {
        "id": "lmm5yPj3huc2"
      }
    },
    {
      "cell_type": "markdown",
      "source": [
        "\n",
        "Luego de analizar cinco factores clave relacionados con el desempeño de las cuatro tiendas del Sr. Juan, se llegó a una conclusión clara sobre cuál de ellas representa la opción más adecuada para ser vendida.\n",
        "\n",
        "1. Ingreso real (facturación menos costo de envío)\n",
        "La Tienda 1 obtuvo el ingreso más alto, superando los 1.089 millones de pesos. Le siguieron la Tienda 2 con 1.056 millones, la Tienda 3 con 1.039 millones y, por último, la Tienda 4 con un ingreso significativamente menor: 983 millones de pesos. Esto indica que la Tienda 4 genera menos ganancias netas que sus competidoras.\n",
        "\n",
        "2. Categorías de productos más y menos vendidas\n",
        "En general, las categorías más vendidas fueron Muebles y Electrónica en todas las tiendas, lo que demuestra una fuerte demanda en esas líneas de productos. Sin embargo, en la Tienda 4, aunque también se venden Muebles, no lidera ni destaca en ninguna categoría. Además, comparte las categorías menos vendidas con otras tiendas, como Instrumentos musicales y Libros, sin lograr compensar con un volumen más alto en las más populares.\n",
        "\n",
        "3. Calificación promedio de los clientes\n",
        "En cuanto a la percepción del cliente, la Tienda 3 obtuvo la mejor calificación promedio (4.05 sobre 5), seguida de cerca por la Tienda 2 (4.04) y la Tienda 4 (4.00). La Tienda 1 fue la que recibió la calificación más baja, con 3.98. Aunque la Tienda 4 no se ubica al final en este aspecto, tampoco es la mejor valorada, y su calificación no es suficiente para compensar sus debilidades en otros aspectos.\n",
        "\n",
        "4. Productos más y menos vendidos\n",
        "El producto más vendido en la Tienda 4 fue la \"Cama box\", mientras que el menos vendido fue la \"Guitarra eléctrica\". A diferencia de otras tiendas, cuyos productos más vendidos están más alineados con artículos de alta demanda (como Microondas, Kits de programación o Bancas), los productos de la Tienda 4 no muestran un comportamiento de ventas tan sólido ni recurrente.\n",
        "\n",
        "5. Costo de envío promedio\n",
        "La Tienda 4 tiene el costo de envío promedio más bajo entre todas las tiendas, lo que podría ser una ventaja. Sin embargo, este beneficio no logra compensar los ingresos más bajos ni la baja rotación de productos clave. En comparación con el rendimiento general, esta ventaja es menor y no decisiva.\n",
        "\n",
        "Conclusión y recomendación\n",
        "Después de considerar todos los factores —ingresos, categorías más y menos vendidas, calificaciones de clientes, productos específicos y costos logísticos— se concluye que la Tienda 4 es la menos rentable y la que tiene menos potencial de crecimiento a corto y mediano plazo.\n",
        "\n",
        "Por lo tanto, se recomienda que el Sr. Juan venda la Tienda 4 y mediante esto podrá hacer sus inversiones.\n",
        "\n"
      ],
      "metadata": {
        "id": "kO241caWhw-j"
      }
    }
  ]
}